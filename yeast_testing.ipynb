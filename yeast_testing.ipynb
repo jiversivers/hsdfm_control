{
 "cells": [
  {
   "metadata": {
    "ExecuteTime": {
     "end_time": "2025-02-06T18:38:11.442240Z",
     "start_time": "2025-02-06T18:38:11.387413Z"
    }
   },
   "cell_type": "code",
   "source": "import numpy as np",
   "id": "850ecf7b1933ddf8",
   "outputs": [],
   "execution_count": 1
  },
  {
   "metadata": {},
   "cell_type": "markdown",
   "source": [
    "# Determine optimum yeast addition\n",
    "According to a paper in JBO by Nichols et. al. (_doi: 10.1117/1.2981797_), they created a yeast stock by adding 2.5 g of ActiveDry Baker's yeast to 10 mL of 80$^\\circ$C water. This yields a stock concentration of 250 $\\text{mg}/\\text{mL}$. They added 5 &mu;L of the stock to 3 mL phantoms, thus a concentration of 1.667 &mu;L/mL. This yielded a 25 min deoxygenation process. We will test similar concentrations and compare deoxygenation times. Our phantoms are a larger volume, however, so we will scale up concentrations. Importantly, we will measure wait times between creation of the stock to the addition of it to the phantom. We will begin measuring the dissolved oxygen before adding the yeast, and begin timing at the addition of the yeast.\n",
    "\n",
    "In 15 mL of water, we will need $ 15\\text{mL} \\times 1.667 \\frac{{\\mu}\\text{L}}{\\text{mL}} = 6.67 \\mu\\text{L} $ of stock solution. This requires $ 6.67 \\text{mL} \\times 250 \\frac{\\text{mg}}{\\text{mL}} \\times \\frac{1\\text{g}}{1000\\text{mg}} = 1.67\\text{g} $ of yeast dissolved in 6.67 mL of water at 80$^\\circ$C.\n",
    "\n",
    "For simplicity, we can scale the stock up by a factor of three. This will round off numbers. Then we can go ahead and test oxygenation using stock from different times after activation. These times will be 1 min, 30 minutes, 1 hour. We can also scale our water volume to give round numbers for each phantom.\n",
    "\n",
    "Let's scale it by 1.5 to by 15 mL. This means we will add $1.5 \\times 6.67\\mu\\text{L} = 10 \\mu\\text{L}$ of stock to each phantom. We will make stock for three separate measures, so our total will be 45 mL of sample. This scaling is then $1.5 \\times 3 = 4.5$. We can scale up our previous calculation by that and get 7.5 g of yeast in 30 mL of water\n",
    "\n",
    "Data capture error led to gap in acquisition. About a one nut gap between adding yeast and restarting acquisition for the 1 min phantom."
   ],
   "id": "55e423f272ed962d"
  },
  {
   "cell_type": "code",
   "id": "initial_id",
   "metadata": {
    "collapsed": true,
    "ExecuteTime": {
     "end_time": "2025-02-06T18:38:12.419575Z",
     "start_time": "2025-02-06T18:38:12.416470Z"
    }
   },
   "source": [
    "print(2.5 * 1000 / 10, 'mg/mL yeast in water')\n",
    "s = 15 * (5 / 3)\n",
    "print(s, 'uL of stock solution for 15 mL of water')\n",
    "print((s / 1000) * 250, f'mg of yeast for {s} uL of stock solution')"
   ],
   "outputs": [
    {
     "name": "stdout",
     "output_type": "stream",
     "text": [
      "250.0 mg/mL yeast in water\n",
      "25.0 uL of stock solution for 15 mL of water\n",
      "6.25 mg of yeast for 25.0 uL of stock solution\n"
     ]
    }
   ],
   "execution_count": 2
  },
  {
   "metadata": {},
   "cell_type": "markdown",
   "source": "To get an idea of how long we want/need this process to take, we will assume an acquisition time on average of 250 ms per image for images at 400 - 720 nm in 10 nm increments.",
   "id": "fd0b69946199ceeb"
  },
  {
   "metadata": {
    "ExecuteTime": {
     "end_time": "2025-02-06T18:40:44.947208Z",
     "start_time": "2025-02-06T18:40:44.941936Z"
    }
   },
   "cell_type": "code",
   "source": [
    "acq_time = len(np.arange(400, 730, 10)) * 250 / 1000  # s\n",
    "print(acq_time, 's per image stack')\n",
    "acq_time /= 60\n",
    "print(acq_time, 'm per image stack')"
   ],
   "id": "ec2b7fdba567c58e",
   "outputs": [
    {
     "name": "stdout",
     "output_type": "stream",
     "text": [
      "8.25 s per image stack\n",
      "0.1375 m per image stack\n"
     ]
    }
   ],
   "execution_count": 10
  },
  {
   "metadata": {},
   "cell_type": "markdown",
   "source": "We'd like to get stacks at each percentage, so to simplify, we can assume that our phantom will range from 100 to 0% (in reality it wont reach 0%). That means we need to capture 100 image stacks, so deoxygenation needs to take...",
   "id": "77c5387f81d3eafa"
  },
  {
   "metadata": {
    "ExecuteTime": {
     "end_time": "2025-02-06T18:42:40.467994Z",
     "start_time": "2025-02-06T18:42:40.463343Z"
    }
   },
   "cell_type": "code",
   "source": [
    "deox_time = acq_time * 100\n",
    "print('At least', deox_time, 'min to deoxygenate')"
   ],
   "id": "fdf942473176ca65",
   "outputs": [
    {
     "name": "stdout",
     "output_type": "stream",
     "text": [
      "At least 13.750000000000002 min to deoxygenate\n"
     ]
    }
   ],
   "execution_count": 11
  },
  {
   "metadata": {},
   "cell_type": "code",
   "outputs": [],
   "execution_count": null,
   "source": "",
   "id": "b79dabcd44c315c5"
  }
 ],
 "metadata": {
  "kernelspec": {
   "display_name": "Python 3",
   "language": "python",
   "name": "python3"
  },
  "language_info": {
   "codemirror_mode": {
    "name": "ipython",
    "version": 2
   },
   "file_extension": ".py",
   "mimetype": "text/x-python",
   "name": "python",
   "nbconvert_exporter": "python",
   "pygments_lexer": "ipython2",
   "version": "2.7.6"
  }
 },
 "nbformat": 4,
 "nbformat_minor": 5
}
