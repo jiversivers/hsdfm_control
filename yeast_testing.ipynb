{
 "cells": [
  {
   "metadata": {},
   "cell_type": "markdown",
   "source": [
    "# Determine optimum yeast addition\n",
    "According to a paper in JBO by Nichols et. al. (_doi: 10.1117/1.2981797_), they created a yeast stock by adding 2.5 g of ActiveDry Baker's yeast to 10 mL of 80$^\\circ$C water. This yields a stock concentration of 250 $\\text{mg}/\\text{mL}$. They added 2 &mu;L of the stock to 3 mL phantoms, thus a concentration of 0.667 &mu;L/mL. This yielded a 25 min deoxygenation process. We will test similar concentrations and compare deoxygenation times. Our phantoms are a larger volume, however, so we will scale up concentrations. Importantly, we will measure wait times between creation of the stock to the addition of it to the phantom. We will begin measuring the dissolved oxygen before adding the yeast, and begin timing at the addition of the yeast.\n",
    "\n",
    "In 10 mL of water, we will need $ 10\\text{mL} \\times 0.667 \\frac{{\\mu}\\text{L}}{\\text{mL}} = 6.67 \\mu\\text{L} $ of stock solution. This requires $ 6.67 \\text{mL} \\times 250 \\frac{\\text{mg}}{\\text{mL}} \\times \\frac{1\\text{g}}{1000\\text{mg}} = 1.67\\text{g} $ of yeast dissolved in 6.67 mL of water at 80$^\\circ$C.\n",
    "\n",
    "For simplicity, we can scale the stock up by a factor of three. This will round off numbers. Then we can go ahead and test oxygenation using stock from different times after activation. These times will be 1 min, 5 minutes, 10 minutes. We can also scale our water volume to give round numbers for each phantom.\n",
    "\n",
    "Let's scale it by 1.5 to by 15 mL. This means we will add $1.5 \\times 6.67\\mu\\text{L} = 10 \\mu\\text{L}$ of stock to each phantom. We will make stock for three separate measures, so our total will be 45 mL of sample. This scaling is then $1.5 \\times 3 = 4.5$. We can scale up our previous calculation by that and get 7.5 g of yeast in 30 mL of water\n",
    "\n",
    "Data capture error led to gap in acquistion. About a one mnut gap between adding yeast and restarting acquistion for the 1 min phantom."
   ],
   "id": "55e423f272ed962d"
  },
  {
   "cell_type": "code",
   "execution_count": null,
   "id": "initial_id",
   "metadata": {
    "collapsed": true
   },
   "outputs": [],
   "source": [
    ""
   ]
  }
 ],
 "metadata": {
  "kernelspec": {
   "display_name": "Python 3",
   "language": "python",
   "name": "python3"
  },
  "language_info": {
   "codemirror_mode": {
    "name": "ipython",
    "version": 2
   },
   "file_extension": ".py",
   "mimetype": "text/x-python",
   "name": "python",
   "nbconvert_exporter": "python",
   "pygments_lexer": "ipython2",
   "version": "2.7.6"
  }
 },
 "nbformat": 4,
 "nbformat_minor": 5
}
