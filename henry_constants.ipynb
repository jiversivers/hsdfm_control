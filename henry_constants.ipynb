{
 "cells": [
  {
   "cell_type": "code",
   "id": "initial_id",
   "metadata": {
    "collapsed": true,
    "ExecuteTime": {
     "end_time": "2025-02-04T23:06:35.513222Z",
     "start_time": "2025-02-04T23:06:35.507749Z"
    }
   },
   "source": "import sqlite3",
   "outputs": [],
   "execution_count": 3
  },
  {
   "metadata": {},
   "cell_type": "markdown",
   "source": "The data from the probe were written into a SQLite databse. We will read those back into the workspace as appropriate using SQLite syntax. In prep for that, we set up a connection to the database and a cursor for executing commands.",
   "id": "73ef41293ad23e0a"
  },
  {
   "metadata": {
    "ExecuteTime": {
     "end_time": "2025-02-04T23:08:47.805711Z",
     "start_time": "2025-02-04T23:08:47.797245Z"
    }
   },
   "cell_type": "code",
   "source": [
    "conn = sqlite3.connect('henry_constants.db')\n",
    "c = conn.cursor()"
   ],
   "id": "188814d12f84b39f",
   "outputs": [],
   "execution_count": 9
  },
  {
   "metadata": {
    "ExecuteTime": {
     "end_time": "2025-02-04T23:13:38.006215Z",
     "start_time": "2025-02-04T23:13:37.997884Z"
    }
   },
   "cell_type": "code",
   "source": [
    "c.execute(\"\"\"SELECT AVERAGE(dissolved_oxygen), AVERAGE(temperature) FROM water_rt\"\"\")\n",
    "water_rt = c.fetchall()\n",
    "do_water, t_water = water_rt"
   ],
   "id": "d06c6aeb7ee2d6e4",
   "outputs": [],
   "execution_count": 12
  },
  {
   "metadata": {
    "ExecuteTime": {
     "end_time": "2025-02-04T23:16:02.465360Z",
     "start_time": "2025-02-04T23:16:02.445986Z"
    }
   },
   "cell_type": "code",
   "source": [
    "c.execute(\"\"\"SELECT name FROM sqlite_master WHERE type='table' AND name!='water_rt'\"\"\")\n",
    "phantoms = c.fetchall()"
   ],
   "id": "885eb09f10a4aa63",
   "outputs": [
    {
     "name": "stdout",
     "output_type": "stream",
     "text": [
      "9.186253101736973\n"
     ]
    }
   ],
   "execution_count": 20
  },
  {
   "metadata": {},
   "cell_type": "code",
   "outputs": [],
   "execution_count": null,
   "source": [
    "Hcc = 3.2e-2\n",
    "R = 8.314  # JK-1mol-1\n",
    "c.execute(\"\"\"CREATE TABLE IF NOT EXISTS henry_constants_calculated (\n",
    "        id INTEGER PRIMARY KEY AUTOINCREMENT,\n",
    "        phantom STRING NOT NULL,\n",
    "        average_dot FLOAT NOT NULL,\n",
    "        hcxx FLOAT NOT NULL,\n",
    "        khx FLOAT NOT NULL)\n",
    "        \"\"\")\n",
    "for phantom in phantoms:\n",
    "    c.execute(f\"\"\"SELECT AVERAGE(dissolved_oxygen) FROM {phantom}\"\"\")\n",
    "    do = c.fetchall()\n",
    "    kHx = (Hcc / R * t_water) * (do / do_water)\n",
    "    pO2 = do_water / kH\n",
    "\n",
    "    c.execute(f\"\"\"INSERT INTO henry_constants_calculated (phantom, average_do, hccx, khx) VALUES (?, ?, ?, ?, ?)}\"\"\",\n",
    "              (phantom, do, Hccx, kHx))\n",
    "c.commit()"
   ],
   "id": "b9af763c8b1f5a30"
  }
 ],
 "metadata": {
  "kernelspec": {
   "display_name": "Python 3",
   "language": "python",
   "name": "python3"
  },
  "language_info": {
   "codemirror_mode": {
    "name": "ipython",
    "version": 2
   },
   "file_extension": ".py",
   "mimetype": "text/x-python",
   "name": "python",
   "nbconvert_exporter": "python",
   "pygments_lexer": "ipython2",
   "version": "2.7.6"
  }
 },
 "nbformat": 4,
 "nbformat_minor": 5
}
