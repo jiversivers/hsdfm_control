{
 "cells": [
  {
   "metadata": {},
   "cell_type": "markdown",
   "source": [
    "# Interpreting the data\n",
    "The ultimate goal of this study is to determine the oxygen saturation of dissolved hemoglobin in the phantoms. To do this, we will use the Hill equation, which relates the partial pressure of oxygen (i.e. oxygen tension) to the saturation of hemoglobin as follows:\n",
    "\n",
    "$$\n",
    "\\text{sO}_2 = \\frac{\\text{pO}_2^h}{\\text{p}_50^h + \\text{pO}_2^h}\n",
    "$$\n",
    "\n",
    "The dissolved oxygen probe outputs data in the concentration with units of $\\text{mg}/\\text{mL}$. This must be converted to a partial pressure of oxygen. To determine the partial pressure of oxygen, we will use Henry's law:\n",
    "$$\n",
    "\\text{pO}_2 = \\frac{[\\text{O}_2]}{k_H}\n",
    "$$\n",
    "In this equation, $k_H$ is Henry's law constant for the solution. This constant is not documented for solutions of hemoglobin and polystyrene micro-spheres. We will find it by first determine the local $\\text{pO}_2$ by measuring the dissolved oxygen content of a pure water sample. We can use this same equation because Henry's law constant for water is well known. With $\\text{pO}_2$ solved, we can rearrange Henry's law to find the constant for each phantom."
   ],
   "id": "b8af31cb06ebce7b"
  },
  {
   "cell_type": "code",
   "id": "initial_id",
   "metadata": {
    "collapsed": true,
    "ExecuteTime": {
     "end_time": "2025-02-06T23:15:20.250207Z",
     "start_time": "2025-02-06T23:15:20.237601Z"
    }
   },
   "source": [
    "import sqlite3\n",
    "import datetime\n",
    "\n",
    "import numpy as np\n",
    "\n",
    "from controllers.subs import update_plot"
   ],
   "outputs": [],
   "execution_count": 2
  },
  {
   "metadata": {},
   "cell_type": "markdown",
   "source": "The data from the probe were written into a SQLite databse. We will read those back into the workspace as appropriate using SQLite syntax. In prep for that, we set up a connection to the database and a cursor for executing commands.",
   "id": "73ef41293ad23e0a"
  },
  {
   "metadata": {
    "ExecuteTime": {
     "end_time": "2025-02-06T23:15:21.969603Z",
     "start_time": "2025-02-06T23:15:21.961250Z"
    }
   },
   "cell_type": "code",
   "source": [
    "conn = sqlite3.connect('phantoms2.db')\n",
    "c = conn.cursor()"
   ],
   "id": "188814d12f84b39f",
   "outputs": [],
   "execution_count": 3
  },
  {
   "metadata": {},
   "cell_type": "markdown",
   "source": [
    "Because the temperature is not constant, nor are probe readings perfect, we will perform our calculation at each captured point, then average those calculated values for further use.\n",
    "$$\n",
    "\\text{pO}_2 = \\frac{RT[\\text{O}_2]_{\\text{water}}}{H^{cc}}\n",
    "$$"
   ],
   "id": "2d980a45d52c0b79"
  },
  {
   "metadata": {
    "ExecuteTime": {
     "end_time": "2025-02-06T23:30:03.027327Z",
     "start_time": "2025-02-06T23:30:02.850521Z"
    }
   },
   "cell_type": "code",
   "source": [
    "from matplotlib import pyplot as plt\n",
    "from controllers.subs import update_plot\n",
    "# Load water readings from database\n",
    "c.execute(\"\"\"SELECT time, dissolved_oxygen, temperature FROM phantom3_henry\"\"\")\n",
    "data_queue = c.fetchall()\n",
    "# data_queue = data_queue[700:1500]\n",
    "\n",
    "fig, ax = plt.subplots()\n",
    "# update_plot(fig, ax, data_queue)\n",
    "\n",
    "# Extract time, dissolved oxygen, and temperature from data_queue\n",
    "# Calculate pO2 for each reading\n",
    "Hcc = 3.2e-2\n",
    "R = 8314  # LPaK-1mol-1\n",
    "m = 31.999  # g/mol\n",
    "t0 = datetime.datetime.strptime(data_queue[0][0], '%Y-%m-%d %H:%M:%S')\n",
    "times, do, T = zip(*data_queue)\n",
    "times = [datetime.datetime.strptime(t, '%Y-%m-%d %H:%M:%S') - t0 for t in times]\n",
    "t = np.asarray([t.total_seconds() for t in times])\n",
    "do = np.asarray(do) / 1000 / m  # mol/L\n",
    "T = np.asarray(T) + 273.15  # K\n",
    "kH = Hcc / (R * T)  # molL-1Pa-1\n",
    "pO2 = 7.5 * (do / kH) / 1000  # mmHg\n",
    "\n",
    "# Ensure data is sorted by time\n",
    "sorted_data = sorted(zip(t, pO2), key=lambda x: x[0])\n",
    "# Unpack sorted values\n",
    "t, pO2 = zip(*sorted_data)\n",
    "t = np.asarray(t)\n",
    "pO2 = np.asarray(pO2)\n",
    "\n",
    "h = 2.7\n",
    "p50 = 27\n",
    "sO2 = 100 * (pO2 ** h) / ((p50 ** h) + (pO2 ** h))\n",
    "\n",
    "ax.scatter(t, pO2)\n",
    "plt.show()"
   ],
   "id": "d06c6aeb7ee2d6e4",
   "outputs": [
    {
     "data": {
      "text/plain": [
       "<Figure size 640x480 with 1 Axes>"
      ],
      "image/png": "[encoded data removed]"
     },
     "metadata": {},
     "output_type": "display_data"
    }
   ],
   "execution_count": 44
  },
  {
   "metadata": {},
   "cell_type": "markdown",
   "source": [
    "To check what a reasonable dissolved oxygen concentration would be, we can go the other way:\n",
    "$$\n",
    "[\\text{O}_2] = \\frac{H_{cc}\\text{pO}_2}{RT}\n",
    "$$\n",
    "We will let temperature be 20$^\\circ$C."
   ],
   "id": "421f7d8788027f01"
  },
  {
   "metadata": {
    "ExecuteTime": {
     "end_time": "2025-02-06T19:53:31.348164Z",
     "start_time": "2025-02-06T19:53:30.985104Z"
    }
   },
   "cell_type": "code",
   "source": [
    "temp_range = np.asarray(range(15, 25, 1))\n",
    "ideal_do = (Hcc * 21) / (R * (temp_range + 273.15)) * 1000 * m * 1000# Pa\n",
    "plt.scatter(temp_range, ideal_do)\n",
    "print(f'Dissolved oxygen expected around {ideal_do}.')"
   ],
   "id": "3170a17b47bb3ae2",
   "outputs": [
    {
     "ename": "NameError",
     "evalue": "name 'Hcc' is not defined",
     "output_type": "error",
     "traceback": [
      "\u001B[0;31m---------------------------------------------------------------------------\u001B[0m",
      "\u001B[0;31mNameError\u001B[0m                                 Traceback (most recent call last)",
      "Cell \u001B[0;32mIn[4], line 2\u001B[0m\n\u001B[1;32m      1\u001B[0m temp_range \u001B[38;5;241m=\u001B[39m np\u001B[38;5;241m.\u001B[39masarray(\u001B[38;5;28mrange\u001B[39m(\u001B[38;5;241m15\u001B[39m, \u001B[38;5;241m25\u001B[39m, \u001B[38;5;241m1\u001B[39m))\n\u001B[0;32m----> 2\u001B[0m ideal_do \u001B[38;5;241m=\u001B[39m (Hcc \u001B[38;5;241m*\u001B[39m \u001B[38;5;241m21\u001B[39m) \u001B[38;5;241m/\u001B[39m (R \u001B[38;5;241m*\u001B[39m (temp_range \u001B[38;5;241m+\u001B[39m \u001B[38;5;241m273.15\u001B[39m)) \u001B[38;5;241m*\u001B[39m \u001B[38;5;241m1000\u001B[39m \u001B[38;5;241m*\u001B[39m m \u001B[38;5;241m*\u001B[39m \u001B[38;5;241m1000\u001B[39m\u001B[38;5;66;03m# Pa\u001B[39;00m\n\u001B[1;32m      3\u001B[0m plt\u001B[38;5;241m.\u001B[39mscatter(temp_range, ideal_do)\n\u001B[1;32m      4\u001B[0m \u001B[38;5;28mprint\u001B[39m(\u001B[38;5;124mf\u001B[39m\u001B[38;5;124m'\u001B[39m\u001B[38;5;124mDissolved oxygen expected around \u001B[39m\u001B[38;5;132;01m{\u001B[39;00mideal_do\u001B[38;5;132;01m}\u001B[39;00m\u001B[38;5;124m.\u001B[39m\u001B[38;5;124m'\u001B[39m)\n",
      "\u001B[0;31mNameError\u001B[0m: name 'Hcc' is not defined"
     ]
    }
   ],
   "execution_count": 4
  },
  {
   "metadata": {
    "ExecuteTime": {
     "end_time": "2025-02-06T19:53:31.351643848Z",
     "start_time": "2025-02-05T23:30:53.253735Z"
    }
   },
   "cell_type": "code",
   "source": [
    "c.execute(\"\"\"SELECT name FROM sqlite_master WHERE type='table' AND name!='henry_constants_calculated' and name!='sqlite_sequence'\"\"\")\n",
    "phantoms = c.fetchall()"
   ],
   "id": "885eb09f10a4aa63",
   "outputs": [],
   "execution_count": 40
  },
  {
   "metadata": {
    "ExecuteTime": {
     "end_time": "2025-02-06T19:53:31.360441784Z",
     "start_time": "2025-02-05T23:32:43.027211Z"
    }
   },
   "cell_type": "code",
   "source": [
    "c.execute(\"\"\"CREATE TABLE IF NOT EXISTS henry_constants_calculated (\n",
    "        id INTEGER PRIMARY KEY AUTOINCREMENT,\n",
    "        phantom STRING NOT NULL,\n",
    "        average_dot FLOAT NOT NULL,\n",
    "        hcxx FLOAT NOT NULL,\n",
    "        khx FLOAT NOT NULL)\n",
    "        \"\"\")\n",
    "\n",
    "TO = np.mean(T * do)  # Denominator with water values\n",
    "Hcc_x = {}\n",
    "for phantom in phantoms:\n",
    "    phantom = phantom[0]\n",
    "    c.execute(f\"\"\"SELECT dissolved_oxygen, temperature FROM {phantom}\"\"\")\n",
    "    phantom_values = c.fetchall()\n",
    "    do_x = np.asarray([val[0] / 1000 / m for val in phantom_values])\n",
    "    T_x = np.asarray([val[1] + 273.15 for val in phantom_values])\n",
    "    Hcc_x[phantom] = np.mean((Hcc * T_x * do_x) / TO)\n",
    "    #\n",
    "    # c.execute(f\"\"\"INSERT INTO henry_constants_calculated (phantom, average_dot, hcxx) VALUES (?, ?, ?)\"\"\",\n",
    "    #           (phantom, do, Hcc_x[phantom]))\n",
    "conn.commit()\n",
    "for key, val in Hcc_x.items():\n",
    "    print(key, val)"
   ],
   "id": "b9af763c8b1f5a30",
   "outputs": [
    {
     "name": "stdout",
     "output_type": "stream",
     "text": [
      "water_henry_constant 0.031999999999999994\n",
      "phantom_water_cold 0.036341200187250566\n",
      "phantom13_14 0.035324524058482416\n",
      "phantom12 0.031897491892868876\n",
      "phantom9 0.03375244641326695\n",
      "phantom6 0.03516017557931591\n",
      "phantom3 0.03995550021745918\n"
     ]
    }
   ],
   "execution_count": 42
  },
  {
   "metadata": {},
   "cell_type": "code",
   "outputs": [],
   "execution_count": null,
   "source": "",
   "id": "b36ebfd6cc6cc92f"
  }
 ],
 "metadata": {
  "kernelspec": {
   "display_name": "Python 3",
   "language": "python",
   "name": "python3"
  },
  "language_info": {
   "codemirror_mode": {
    "name": "ipython",
    "version": 2
   },
   "file_extension": ".py",
   "mimetype": "text/x-python",
   "name": "python",
   "nbconvert_exporter": "python",
   "pygments_lexer": "ipython2",
   "version": "2.7.6"
  }
 },
 "nbformat": 4,
 "nbformat_minor": 5
}
